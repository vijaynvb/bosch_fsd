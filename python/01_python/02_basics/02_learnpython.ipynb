{
  "cells": [
    {
      "cell_type": "markdown",
      "metadata": {
        "id": "537b005a"
      },
      "source": [
        "# Learn Python\n",
        "\n",
        "This notebook covers the basics of Python programming."
      ]
    },
    {
      "cell_type": "markdown",
      "metadata": {
        "id": "d89904fd"
      },
      "source": [
        "## Variables and Data Types\n",
        "\n",
        "Variables are used to store data in a program. In Python, you don't need to declare the type of a variable explicitly. The interpreter infers the type based on the value assigned to it.\n",
        "\n",
        "### Data Types\n",
        "\n",
        "Python has several built-in data types:\n",
        "\n",
        "- **Integers**: Whole numbers, e.g., `5`, `-10`\n",
        "- **Floats**: Decimal numbers, e.g., `3.14`, `-0.001`\n",
        "- **Strings**: Text data, e.g., `\"Hello, World!\"`\n",
        "- **Booleans**: True/False values, e.g., `True`, `False`\n",
        "\n",
        "```python\n",
        "# Example\n",
        "age = 30               # Integer\n",
        "height = 5.9           # Float\n",
        "name = \"John Doe\"      # String\n",
        "is_student = False     # Boolean\n",
        "```"
      ]
    },
    {
      "cell_type": "code",
      "execution_count": 29,
      "metadata": {
        "colab": {
          "base_uri": "https://localhost:8080/"
        },
        "id": "7bc27c21",
        "outputId": "b4d7b597-bc6e-461f-cd76-b7918aa2d851"
      },
      "outputs": [
        {
          "name": "stdout",
          "output_type": "stream",
          "text": [
            "a :  10\n",
            "<class 'int'>\n",
            "World\n",
            "<class 'str'>\n",
            "<class 'float'>\n",
            "<class 'bool'>\n"
          ]
        }
      ],
      "source": [
        "# Variables\n",
        "x = 10\n",
        "y = \"Hello\"\n",
        "z = 3.14\n",
        "\n",
        "# Data Types\n",
        "# Integer\n",
        "a = 10\n",
        "print('a : ',a)\n",
        "print(type(a))\n",
        "\n",
        "# String\n",
        "b = \"World\"\n",
        "print(b)\n",
        "print(type(b))\n",
        "\n",
        "# Float\n",
        "c = 2.718\n",
        "print(type(c))\n",
        "\n",
        "# Boolean\n",
        "d = True\n",
        "print(type(d))"
      ]
    },
    {
      "cell_type": "markdown",
      "metadata": {
        "id": "1814f6c2"
      },
      "source": [
        "## Data Structures\n",
        "\n",
        "Python offers several built-in data structures to organize and store data.\n",
        "\n",
        "### Lists\n",
        "\n",
        "A list is an ordered collection of items, which can be of different types. Lists are mutable, meaning you can change their content.\n",
        "\n",
        "```python\n",
        "# Example\n",
        "fruits = [\"apple\", \"banana\", \"cherry\"]\n",
        "fruits.append(\"orange\")  # Add an item\n",
        "```\n",
        "\n",
        "### Tuples\n",
        "\n",
        "A tuple is similar to a list, but it is immutable, meaning once it is created, you cannot change its content.\n",
        "\n",
        "```python\n",
        "# Example\n",
        "coordinates = (10.0, 20.0)\n",
        "```\n",
        "\n",
        "### Dictionaries\n",
        "\n",
        "A dictionary is a collection of key-value pairs. It is unordered and mutable.\n",
        "\n",
        "```python\n",
        "# Example\n",
        "student = {\n",
        "    \"name\": \"John Doe\",\n",
        "    \"age\": 30,\n",
        "    \"is_student\": False\n",
        "}\n",
        "```\n",
        "\n",
        "### Sets\n",
        "\n",
        "A set is an unordered collection of unique items. It is mutable and does not allow duplicate values.\n",
        "\n",
        "```python\n",
        "# Example\n",
        "unique_numbers = {1, 2, 3, 4, 4}\n",
        "```"
      ]
    },
    {
      "cell_type": "code",
      "execution_count": 30,
      "metadata": {
        "colab": {
          "base_uri": "https://localhost:8080/"
        },
        "id": "5d5b2c20",
        "outputId": "e42b74ea-3750-456d-8280-33aa1f6d348c"
      },
      "outputs": [
        {
          "name": "stdout",
          "output_type": "stream",
          "text": [
            "List\n",
            "1\n",
            "[1, 2, 3, 'apple', 'banana', 'cherry']\n",
            "Tuple\n",
            "(1, 'hello', 3.14, True)\n",
            "hello\n",
            "Nested Tuple\n",
            "2\n",
            "(1, 2)\n",
            "Single Element Tuple\n",
            "(5,)\n",
            "<class 'tuple'>\n",
            "Tuple Unpacking\n",
            "10\n",
            "20\n",
            "30\n",
            "Dictionary\n",
            "Alice\n",
            "{'name': 'Alice', 'age': 30, 'city': 'New York', 'job': 'Engineer'}\n",
            "Set\n",
            "{1, 2, 3, 4}\n"
          ]
        }
      ],
      "source": [
        "# List (ordered, mutable)\n",
        "print(\"List\")\n",
        "my_list = [1, 2, 3, \"apple\", \"banana\"]\n",
        "print(my_list[0])\n",
        "my_list.append(\"cherry\")\n",
        "print(my_list)\n",
        "\n",
        "# Tuple with mixed data types\n",
        "print(\"Tuple\")\n",
        "mixed_tuple = (1, \"hello\", 3.14, True)\n",
        "print(mixed_tuple)\n",
        "print(mixed_tuple[1])\n",
        "\n",
        "# Nested tuples\n",
        "print(\"Nested Tuple\")\n",
        "nested_tuple = ((1, 2), (3, 4), (\"a\", \"b\"))\n",
        "print(nested_tuple[0][1])\n",
        "print(nested_tuple[0])\n",
        "\n",
        "# Tuple with a single element (note the comma)\n",
        "print(\"Single Element Tuple\")\n",
        "single_element_tuple = (5,)\n",
        "print(single_element_tuple)\n",
        "print(type(single_element_tuple))\n",
        "\n",
        "# Tuple unpacking\n",
        "print(\"Tuple Unpacking\")\n",
        "a, b, c = (10, 20, 30)\n",
        "print(a)\n",
        "print(b)\n",
        "print(c)\n",
        "\n",
        "# Dictionary (unordered, mutable, key-value pairs)\n",
        "print(\"Dictionary\")\n",
        "my_dict = {\"name\": \"Alice\", \"age\": 30, \"city\": \"New York\"}\n",
        "print(my_dict[\"name\"])\n",
        "my_dict[\"job\"] = \"Engineer\"\n",
        "print(my_dict)\n",
        "\n",
        "# Sets (unordered, mutable, unique elements)\n",
        "print(\"Set\")\n",
        "my_set = {1, 2, 3, 3, 4}\n",
        "print(my_set)"
      ]
    },
    {
      "cell_type": "markdown",
      "metadata": {
        "id": "9db4e322"
      },
      "source": [
        "## Control Flow\n",
        "\n",
        "Control flow statements determine the order in which code is executed. Python provides several control flow statements, including:\n",
        "\n",
        "- **Conditional Statements**: Allow you to execute code based on certain conditions.\n",
        "- **Loops**: Enable you to repeat a block of code multiple times."
      ]
    },
    {
      "cell_type": "markdown",
      "metadata": {
        "id": "b246b9a6"
      },
      "source": [
        "### Conditional Statements\n",
        "\n",
        "Conditional statements let you execute code based on a condition. The most common conditional statement is the `if` statement."
      ]
    },
    {
      "cell_type": "code",
      "execution_count": 31,
      "metadata": {
        "colab": {
          "base_uri": "https://localhost:8080/"
        },
        "id": "22a96776",
        "outputId": "cfc97d2e-e9fd-41d2-fb09-a3688298845d"
      },
      "outputs": [
        {
          "name": "stdout",
          "output_type": "stream",
          "text": [
            "You are an adult.\n"
          ]
        }
      ],
      "source": [
        "age = 25\n",
        "if age < 18:\n",
        "  print(\"You are a minor.\")\n",
        "elif 18 <= age < 65:\n",
        "  print(\"You are an adult.\")\n",
        "else:\n",
        "  print(\"You are a senior.\")"
      ]
    },
    {
      "cell_type": "markdown",
      "metadata": {
        "id": "d1a37aa7"
      },
      "source": [
        "### Loops\n",
        "\n",
        "Loops allow you to repeat a block of code multiple times. Python has two main types of loops: `for` loops and `while` loops.\n",
        "\n",
        "#### For Loops\n",
        "\n",
        "A `for` loop iterates over a sequence (like a list or a string) and executes a block of code for each item.\n",
        "\n",
        "#### While Loops\n",
        "\n",
        "A `while` loop continues to execute as long as a condition is true."
      ]
    },
    {
      "cell_type": "code",
      "execution_count": 32,
      "metadata": {
        "colab": {
          "base_uri": "https://localhost:8080/"
        },
        "id": "a2cc0cf9",
        "outputId": "c6669d5a-589e-4695-82e9-d1e8cf5e3c8a"
      },
      "outputs": [
        {
          "name": "stdout",
          "output_type": "stream",
          "text": [
            "apple\n",
            "banana\n",
            "cherry\n",
            "0\n",
            "1\n",
            "2\n",
            "3\n",
            "4\n"
          ]
        }
      ],
      "source": [
        "# For loop\n",
        "fruits = [\"apple\", \"banana\", \"cherry\"]\n",
        "for fruit in fruits:\n",
        "  print(fruit)\n",
        "\n",
        "# While loop\n",
        "count = 0\n",
        "while count < 5:\n",
        "  print(count)\n",
        "  count += 1"
      ]
    },
    {
      "cell_type": "markdown",
      "metadata": {
        "id": "44b93412"
      },
      "source": [
        "### Loop Control Statements\n",
        "\n",
        "These statements alter the normal flow of loops.\n",
        "\n",
        "- **break**: Exits the loop prematurely.\n",
        "- **continue**: Skips the current iteration and moves to the next one.\n",
        "- **pass**: Does nothing and is used as a placeholder."
      ]
    },
    {
      "cell_type": "code",
      "execution_count": 33,
      "metadata": {
        "colab": {
          "base_uri": "https://localhost:8080/"
        },
        "id": "27f813d9",
        "outputId": "a1083f88-8ebc-4784-d063-01ad37862adb"
      },
      "outputs": [
        {
          "name": "stdout",
          "output_type": "stream",
          "text": [
            "0\n",
            "1\n",
            "2\n",
            "3\n",
            "4\n",
            "1\n",
            "3\n",
            "5\n",
            "7\n",
            "9\n"
          ]
        }
      ],
      "source": [
        "# break\n",
        "for i in range(10):\n",
        "  if i == 5:\n",
        "    break\n",
        "  print(i)\n",
        "\n",
        "# continue\n",
        "for i in range(10):\n",
        "  if i % 2 == 0:\n",
        "    continue\n",
        "  print(i)\n",
        "\n",
        "# pass\n",
        "for i in range(10):\n",
        "  pass # Do nothing for now"
      ]
    },
    {
      "cell_type": "markdown",
      "metadata": {
        "id": "d4c42983"
      },
      "source": [
        "## Functions\n",
        "\n",
        "Functions are reusable blocks of code that perform a specific task. They help in organizing code and making it more modular."
      ]
    },
    {
      "cell_type": "code",
      "execution_count": 34,
      "metadata": {
        "colab": {
          "base_uri": "https://localhost:8080/"
        },
        "id": "b6eb6585",
        "outputId": "0cccd853-d81a-478e-9367-9a8a0703b40c"
      },
      "outputs": [
        {
          "name": "stdout",
          "output_type": "stream",
          "text": [
            "Hello, Bob!\n",
            "8\n",
            "16\n",
            "Different Types of Lambda Examples\n",
            "8\n",
            "15\n",
            "Hello, Alice!\n",
            "4.0\n",
            "120\n",
            "7\n"
          ]
        }
      ],
      "source": [
        "def greet(name):\n",
        "  \"\"\"This function greets the person passed in as a parameter.\"\"\"\n",
        "  print(f\"Hello, {name}!\")\n",
        "\n",
        "greet(\"Bob\")\n",
        "\n",
        "\n",
        "def add(x, y):\n",
        "  return x + y\n",
        "\n",
        "result = add(5, 3)\n",
        "print(result)\n",
        "\n",
        "\n",
        "# Lambda functions (anonymous functions)\n",
        "square = lambda x: x**2\n",
        "print(square(4))\n",
        "\n",
        "\n",
        "\n",
        "# Different Types of Lambda Examples\n",
        "print(\"Different Types of Lambda Examples\")\n",
        "add = lambda x, y: x + y\n",
        "print(add(5, 3))\n",
        "\n",
        "\n",
        "multiply = lambda x, y: x * y\n",
        "print(multiply(5, 3))\n",
        "\n",
        "\n",
        "greet = lambda name: print(f\"Hello, {name}!\")\n",
        "greet(\"Alice\")\n",
        "\n",
        "\n",
        "square_root = lambda x: x**0.5\n",
        "print(square_root(16))\n",
        "\n",
        "\n",
        "factorial = lambda n: 1 if n == 0 else n * factorial(n-1)\n",
        "print(factorial(5))\n",
        "\n",
        "\n",
        "namedFunction = add\n",
        "print(namedFunction(3,4))"
      ]
    },
    {
      "cell_type": "markdown",
      "metadata": {
        "id": "e9da3120"
      },
      "source": [
        "## Object-Oriented Programming (OOP)\n",
        "\n",
        "OOP is a programming paradigm based on the concept of objects. It utilizes several key principles:\n",
        "\n",
        "- **Classes**: Blueprints for creating objects. They define a set of attributes and methods that the created objects will have.\n",
        "- **Objects**: Instances of classes, which can contain data (attributes) and methods (functions) that operate on the data.\n",
        "- **Encapsulation**: Bundling the data (attributes) and methods (functions) that operate on the data within one unit (class).\n",
        "- **Inheritance**: Mechanism to create a new class using the properties and methods of an existing class.\n",
        "- **Polymorphism**: Ability to present the same interface for different underlying forms (data types).\n"
      ]
    },
    {
      "cell_type": "markdown",
      "metadata": {},
      "source": [
        "### Classes\n",
        "\n",
        "Classes are blueprints for creating objects. They define a set of attributes and methods that the created objects will have."
      ]
    },
    {
      "cell_type": "code",
      "execution_count": 35,
      "metadata": {
        "colab": {
          "base_uri": "https://localhost:8080/"
        },
        "id": "3ebf002f",
        "outputId": "6cb6d51f-0aec-49f1-c9ab-46d002f438c4"
      },
      "outputs": [
        {
          "name": "stdout",
          "output_type": "stream",
          "text": [
            "Buddy\n",
            "Buddy says Woof!\n"
          ]
        }
      ],
      "source": [
        "class Dog:\n",
        "  def __init__(self, name, age):\n",
        "    self.name = name\n",
        "    self.age = age\n",
        "\n",
        "  def bark(self):\n",
        "    print(f\"{self.name} says Woof!\")\n",
        "\n",
        "my_dog = Dog(\"Buddy\", 3)\n",
        "print(my_dog.name)\n",
        "my_dog.bark()"
      ]
    },
    {
      "cell_type": "markdown",
      "metadata": {
        "id": "36bda2c1"
      },
      "source": [
        "### Inheritance\n",
        "\n",
        "Inheritance allows a class to inherit properties and methods from another class. This promotes code reusability and establishes a relationship between classes.\n"
      ]
    },
    {
      "cell_type": "code",
      "execution_count": 36,
      "metadata": {
        "id": "798a615c"
      },
      "outputs": [
        {
          "name": "stdout",
          "output_type": "stream",
          "text": [
            "yellow\n",
            "Lucy says Woof!\n",
            "Lucy loves to swim!\n"
          ]
        }
      ],
      "source": [
        "class Labrador(Dog):\n",
        "  def __init__(self, name, age, color):\n",
        "    super().__init__(name, age)\n",
        "    self.color = color\n",
        "\n",
        "  def swim(self):\n",
        "    print(f\"{self.name} loves to swim!\")\n",
        "\n",
        "my_labrador = Labrador(\"Lucy\", 5, \"yellow\")\n",
        "print(my_labrador.color)\n",
        "my_labrador.bark()\n",
        "my_labrador.swim()"
      ]
    },
    {
      "cell_type": "markdown",
      "metadata": {},
      "source": [
        "### Encapsulation\n",
        "\n",
        "Encapsulation is the bundling of data (attributes) and methods (functions) that operate on the data within one unit (class). It restricts direct access to some of the object's components, which can prevent the accidental modification of data.\n"
      ]
    },
    {
      "cell_type": "code",
      "execution_count": 37,
      "metadata": {},
      "outputs": [
        {
          "name": "stdout",
          "output_type": "stream",
          "text": [
            "1500\n"
          ]
        }
      ],
      "source": [
        "# Example: Encapsulation\n",
        "class Account:\n",
        "    def __init__(self, owner, balance):\n",
        "        self.owner = owner\n",
        "        self.__balance = balance  # Private attribute\n",
        "\n",
        "    def deposit(self, amount):\n",
        "        self.__balance += amount\n",
        "\n",
        "    def get_balance(self):\n",
        "        return self.__balance\n",
        "\n",
        "acc = Account(\"Alice\", 1000)\n",
        "acc.deposit(500)\n",
        "print(acc.get_balance())  # Access via method"
      ]
    },
    {
      "cell_type": "markdown",
      "metadata": {},
      "source": [
        "### Polymorphism\n",
        "\n",
        "Polymorphism allows objects of different classes to be treated as objects of a common superclass. It is particularly useful in implementing interfaces and allows for flexibility and the ability to extend code without modifying existing functionality.\n"
      ]
    },
    {
      "cell_type": "code",
      "execution_count": 38,
      "metadata": {},
      "outputs": [
        {
          "name": "stdout",
          "output_type": "stream",
          "text": [
            "Meow\n",
            "Woof\n"
          ]
        }
      ],
      "source": [
        "# Example: Polymorphism\n",
        "class Animal:\n",
        "    def speak(self):\n",
        "        print(\"Animal speaks\")\n",
        "\n",
        "class Cat(Animal):\n",
        "    def speak(self):\n",
        "        print(\"Meow\")\n",
        "\n",
        "class Dog(Animal):\n",
        "    def speak(self):\n",
        "        print(\"Woof\")\n",
        "\n",
        "def animal_sound(animal):\n",
        "    animal.speak()\n",
        "\n",
        "cat = Cat()\n",
        "dog = Dog()\n",
        "animal_sound(cat)\n",
        "animal_sound(dog)"
      ]
    },
    {
      "cell_type": "markdown",
      "metadata": {
        "id": "7157d57e"
      },
      "source": [
        "## Modules and Libraries\n",
        "\n",
        "Modules and libraries provide pre-written code that you can use in your programs."
      ]
    },
    {
      "cell_type": "code",
      "execution_count": 39,
      "metadata": {
        "colab": {
          "base_uri": "https://localhost:8080/"
        },
        "id": "fde1ad72",
        "outputId": "37c6cdfe-ec09-4d32-c84b-fd09147997b6"
      },
      "outputs": [
        {
          "name": "stdout",
          "output_type": "stream",
          "text": [
            "4.0\n",
            "4\n"
          ]
        }
      ],
      "source": [
        "# Importing built-in modules\n",
        "import math\n",
        "print(math.sqrt(16))\n",
        "\n",
        "# Importing specific functions from a module\n",
        "from random import randint\n",
        "print(randint(1, 10))"
      ]
    },
    {
      "cell_type": "markdown",
      "metadata": {
        "id": "c30c7b6c"
      },
      "source": [
        "### Installing and Importing External Libraries\n",
        "\n",
        "You can use `pip` to install external libraries."
      ]
    },
    {
      "cell_type": "code",
      "execution_count": 41,
      "metadata": {
        "colab": {
          "base_uri": "https://localhost:8080/"
        },
        "id": "b7a8cce3",
        "outputId": "3102e3a5-97e0-4bed-f5be-5f6aaceb4ec6"
      },
      "outputs": [
        {
          "name": "stdout",
          "output_type": "stream",
          "text": [
            "[ 2  4  6  8 10]\n"
          ]
        }
      ],
      "source": [
        "# Installing and importing external libraries (using pip)\n",
        "# !pip install numpy\n",
        "import numpy as np\n",
        "\n",
        "my_array = np.array([1, 2, 3, 4, 5])\n",
        "print(my_array * 2)"
      ]
    },
    {
      "cell_type": "markdown",
      "metadata": {
        "id": "1ae6b780"
      },
      "source": [
        "## File Handling\n",
        "\n",
        "File handling in Python allows you to read from and write to files. You can use built-in functions to create, open, read, and write files."
      ]
    },
    {
      "cell_type": "code",
      "execution_count": 42,
      "metadata": {
        "colab": {
          "base_uri": "https://localhost:8080/"
        },
        "id": "040124ce",
        "outputId": "c2ef5275-68fb-4ae7-c4ed-fc3d0537f95f"
      },
      "outputs": [
        {
          "name": "stdout",
          "output_type": "stream",
          "text": [
            "Hello, file!\n",
            "Hello, file!\n",
            "This is a new line.\n"
          ]
        }
      ],
      "source": [
        "# Writing to a file\n",
        "with open(\"my_file.txt\", \"w\") as f:\n",
        "  f.write(\"Hello, file!\")\n",
        "\n",
        "# Reading from a file\n",
        "with open(\"my_file.txt\", \"r\") as f:\n",
        "  content = f.read()\n",
        "  print(content)\n",
        "\n",
        "# Appending to a file\n",
        "with open(\"my_file.txt\", \"a\") as f:\n",
        "  f.write(\"\\nThis is a new line.\")\n",
        "\n",
        "with open(\"my_file.txt\", \"r\") as f:\n",
        "  content = f.read()\n",
        "  print(content)"
      ]
    },
    {
      "cell_type": "markdown",
      "metadata": {
        "id": "ccb6e8e8"
      },
      "source": [
        "## Error Handling (Try-Except)\n",
        "\n",
        "Error handling in Python allows you to gracefully manage errors that may occur in your code. You can use try-except blocks to catch and handle exceptions.\n"
      ]
    },
    {
      "cell_type": "code",
      "execution_count": 43,
      "metadata": {
        "colab": {
          "base_uri": "https://localhost:8080/"
        },
        "id": "8a497d83",
        "outputId": "ce98e907-4cdf-4c14-bcdc-ca901323326d"
      },
      "outputs": [
        {
          "name": "stdout",
          "output_type": "stream",
          "text": [
            "Cannot divide by zero!\n",
            "Invalid number format.\n"
          ]
        }
      ],
      "source": [
        "try:\n",
        "  result = 10 / 0\n",
        "except ZeroDivisionError:\n",
        "  print(\"Cannot divide by zero!\")\n",
        "\n",
        "try:\n",
        "  num = int(\"abc\")\n",
        "except ValueError:\n",
        "  print(\"Invalid number format.\")"
      ]
    },
    {
      "cell_type": "markdown",
      "metadata": {},
      "source": [
        "# Comprehensions\n",
        "\n",
        "Comprehensions provide a concise way to create lists, dictionaries, and sets in Python. They consist of an expression followed by a `for` clause, and can include optional `if` clauses.\n"
      ]
    },
    {
      "cell_type": "code",
      "execution_count": 44,
      "metadata": {
        "id": "EUonUG3gaEDU"
      },
      "outputs": [
        {
          "name": "stdout",
          "output_type": "stream",
          "text": [
            "[0, 1, 4, 9, 16]\n"
          ]
        }
      ],
      "source": [
        "# Example: comprehensions\n",
        "\n",
        "squared = [x**2 for x in range(5)]\n",
        "print(squared)"
      ]
    },
    {
      "cell_type": "markdown",
      "metadata": {},
      "source": [
        "# Async & await\n",
        "\n",
        "Async and await are used in Python to write asynchronous code. This allows you to run tasks concurrently, improving performance for I/O-bound operations."
      ]
    },
    {
      "cell_type": "code",
      "execution_count": 45,
      "metadata": {},
      "outputs": [
        {
          "name": "stdout",
          "output_type": "stream",
          "text": [
            "Status Code: 200\n",
            "Response JSON: [{'id': 1, 'name': 'Leanne Graham', 'username': 'Bret', 'email': 'Sincere@april.biz', 'address': {'street': 'Kulas Light', 'suite': 'Apt. 556', 'city': 'Gwenborough', 'zipcode': '92998-3874', 'geo': {'lat': '-37.3159', 'lng': '81.1496'}}, 'phone': '1-770-736-8031 x56442', 'website': 'hildegard.org', 'company': {'name': 'Romaguera-Crona', 'catchPhrase': 'Multi-layered client-server neural-net', 'bs': 'harness real-time e-markets'}}, {'id': 2, 'name': 'Ervin Howell', 'username': 'Antonette', 'email': 'Shanna@melissa.tv', 'address': {'street': 'Victor Plains', 'suite': 'Suite 879', 'city': 'Wisokyburgh', 'zipcode': '90566-7771', 'geo': {'lat': '-43.9509', 'lng': '-34.4618'}}, 'phone': '010-692-6593 x09125', 'website': 'anastasia.net', 'company': {'name': 'Deckow-Crist', 'catchPhrase': 'Proactive didactic contingency', 'bs': 'synergize scalable supply-chains'}}, {'id': 3, 'name': 'Clementine Bauch', 'username': 'Samantha', 'email': 'Nathan@yesenia.net', 'address': {'street': 'Douglas Extension', 'suite': 'Suite 847', 'city': 'McKenziehaven', 'zipcode': '59590-4157', 'geo': {'lat': '-68.6102', 'lng': '-47.0653'}}, 'phone': '1-463-123-4447', 'website': 'ramiro.info', 'company': {'name': 'Romaguera-Jacobson', 'catchPhrase': 'Face to face bifurcated interface', 'bs': 'e-enable strategic applications'}}, {'id': 4, 'name': 'Patricia Lebsack', 'username': 'Karianne', 'email': 'Julianne.OConner@kory.org', 'address': {'street': 'Hoeger Mall', 'suite': 'Apt. 692', 'city': 'South Elvis', 'zipcode': '53919-4257', 'geo': {'lat': '29.4572', 'lng': '-164.2990'}}, 'phone': '493-170-9623 x156', 'website': 'kale.biz', 'company': {'name': 'Robel-Corkery', 'catchPhrase': 'Multi-tiered zero tolerance productivity', 'bs': 'transition cutting-edge web services'}}, {'id': 5, 'name': 'Chelsey Dietrich', 'username': 'Kamren', 'email': 'Lucio_Hettinger@annie.ca', 'address': {'street': 'Skiles Walks', 'suite': 'Suite 351', 'city': 'Roscoeview', 'zipcode': '33263', 'geo': {'lat': '-31.8129', 'lng': '62.5342'}}, 'phone': '(254)954-1289', 'website': 'demarco.info', 'company': {'name': 'Keebler LLC', 'catchPhrase': 'User-centric fault-tolerant solution', 'bs': 'revolutionize end-to-end systems'}}, {'id': 6, 'name': 'Mrs. Dennis Schulist', 'username': 'Leopoldo_Corkery', 'email': 'Karley_Dach@jasper.info', 'address': {'street': 'Norberto Crossing', 'suite': 'Apt. 950', 'city': 'South Christy', 'zipcode': '23505-1337', 'geo': {'lat': '-71.4197', 'lng': '71.7478'}}, 'phone': '1-477-935-8478 x6430', 'website': 'ola.org', 'company': {'name': 'Considine-Lockman', 'catchPhrase': 'Synchronised bottom-line interface', 'bs': 'e-enable innovative applications'}}, {'id': 7, 'name': 'Kurtis Weissnat', 'username': 'Elwyn.Skiles', 'email': 'Telly.Hoeger@billy.biz', 'address': {'street': 'Rex Trail', 'suite': 'Suite 280', 'city': 'Howemouth', 'zipcode': '58804-1099', 'geo': {'lat': '24.8918', 'lng': '21.8984'}}, 'phone': '210.067.6132', 'website': 'elvis.io', 'company': {'name': 'Johns Group', 'catchPhrase': 'Configurable multimedia task-force', 'bs': 'generate enterprise e-tailers'}}, {'id': 8, 'name': 'Nicholas Runolfsdottir V', 'username': 'Maxime_Nienow', 'email': 'Sherwood@rosamond.me', 'address': {'street': 'Ellsworth Summit', 'suite': 'Suite 729', 'city': 'Aliyaview', 'zipcode': '45169', 'geo': {'lat': '-14.3990', 'lng': '-120.7677'}}, 'phone': '586.493.6943 x140', 'website': 'jacynthe.com', 'company': {'name': 'Abernathy Group', 'catchPhrase': 'Implemented secondary concept', 'bs': 'e-enable extensible e-tailers'}}, {'id': 9, 'name': 'Glenna Reichert', 'username': 'Delphine', 'email': 'Chaim_McDermott@dana.io', 'address': {'street': 'Dayna Park', 'suite': 'Suite 449', 'city': 'Bartholomebury', 'zipcode': '76495-3109', 'geo': {'lat': '24.6463', 'lng': '-168.8889'}}, 'phone': '(775)976-6794 x41206', 'website': 'conrad.com', 'company': {'name': 'Yost and Sons', 'catchPhrase': 'Switchable contextually-based project', 'bs': 'aggregate real-time technologies'}}, {'id': 10, 'name': 'Clementina DuBuque', 'username': 'Moriah.Stanton', 'email': 'Rey.Padberg@karina.biz', 'address': {'street': 'Kattie Turnpike', 'suite': 'Suite 198', 'city': 'Lebsackbury', 'zipcode': '31428-2261', 'geo': {'lat': '-38.2386', 'lng': '57.2232'}}, 'phone': '024-648-3804', 'website': 'ambrose.net', 'company': {'name': 'Hoeger LLC', 'catchPhrase': 'Centralized empowering task-force', 'bs': 'target end-to-end models'}}]\n"
          ]
        },
        {
          "data": {
            "text/plain": [
              "[{'id': 1,\n",
              "  'name': 'Leanne Graham',\n",
              "  'username': 'Bret',\n",
              "  'email': 'Sincere@april.biz',\n",
              "  'address': {'street': 'Kulas Light',\n",
              "   'suite': 'Apt. 556',\n",
              "   'city': 'Gwenborough',\n",
              "   'zipcode': '92998-3874',\n",
              "   'geo': {'lat': '-37.3159', 'lng': '81.1496'}},\n",
              "  'phone': '1-770-736-8031 x56442',\n",
              "  'website': 'hildegard.org',\n",
              "  'company': {'name': 'Romaguera-Crona',\n",
              "   'catchPhrase': 'Multi-layered client-server neural-net',\n",
              "   'bs': 'harness real-time e-markets'}},\n",
              " {'id': 2,\n",
              "  'name': 'Ervin Howell',\n",
              "  'username': 'Antonette',\n",
              "  'email': 'Shanna@melissa.tv',\n",
              "  'address': {'street': 'Victor Plains',\n",
              "   'suite': 'Suite 879',\n",
              "   'city': 'Wisokyburgh',\n",
              "   'zipcode': '90566-7771',\n",
              "   'geo': {'lat': '-43.9509', 'lng': '-34.4618'}},\n",
              "  'phone': '010-692-6593 x09125',\n",
              "  'website': 'anastasia.net',\n",
              "  'company': {'name': 'Deckow-Crist',\n",
              "   'catchPhrase': 'Proactive didactic contingency',\n",
              "   'bs': 'synergize scalable supply-chains'}},\n",
              " {'id': 3,\n",
              "  'name': 'Clementine Bauch',\n",
              "  'username': 'Samantha',\n",
              "  'email': 'Nathan@yesenia.net',\n",
              "  'address': {'street': 'Douglas Extension',\n",
              "   'suite': 'Suite 847',\n",
              "   'city': 'McKenziehaven',\n",
              "   'zipcode': '59590-4157',\n",
              "   'geo': {'lat': '-68.6102', 'lng': '-47.0653'}},\n",
              "  'phone': '1-463-123-4447',\n",
              "  'website': 'ramiro.info',\n",
              "  'company': {'name': 'Romaguera-Jacobson',\n",
              "   'catchPhrase': 'Face to face bifurcated interface',\n",
              "   'bs': 'e-enable strategic applications'}},\n",
              " {'id': 4,\n",
              "  'name': 'Patricia Lebsack',\n",
              "  'username': 'Karianne',\n",
              "  'email': 'Julianne.OConner@kory.org',\n",
              "  'address': {'street': 'Hoeger Mall',\n",
              "   'suite': 'Apt. 692',\n",
              "   'city': 'South Elvis',\n",
              "   'zipcode': '53919-4257',\n",
              "   'geo': {'lat': '29.4572', 'lng': '-164.2990'}},\n",
              "  'phone': '493-170-9623 x156',\n",
              "  'website': 'kale.biz',\n",
              "  'company': {'name': 'Robel-Corkery',\n",
              "   'catchPhrase': 'Multi-tiered zero tolerance productivity',\n",
              "   'bs': 'transition cutting-edge web services'}},\n",
              " {'id': 5,\n",
              "  'name': 'Chelsey Dietrich',\n",
              "  'username': 'Kamren',\n",
              "  'email': 'Lucio_Hettinger@annie.ca',\n",
              "  'address': {'street': 'Skiles Walks',\n",
              "   'suite': 'Suite 351',\n",
              "   'city': 'Roscoeview',\n",
              "   'zipcode': '33263',\n",
              "   'geo': {'lat': '-31.8129', 'lng': '62.5342'}},\n",
              "  'phone': '(254)954-1289',\n",
              "  'website': 'demarco.info',\n",
              "  'company': {'name': 'Keebler LLC',\n",
              "   'catchPhrase': 'User-centric fault-tolerant solution',\n",
              "   'bs': 'revolutionize end-to-end systems'}},\n",
              " {'id': 6,\n",
              "  'name': 'Mrs. Dennis Schulist',\n",
              "  'username': 'Leopoldo_Corkery',\n",
              "  'email': 'Karley_Dach@jasper.info',\n",
              "  'address': {'street': 'Norberto Crossing',\n",
              "   'suite': 'Apt. 950',\n",
              "   'city': 'South Christy',\n",
              "   'zipcode': '23505-1337',\n",
              "   'geo': {'lat': '-71.4197', 'lng': '71.7478'}},\n",
              "  'phone': '1-477-935-8478 x6430',\n",
              "  'website': 'ola.org',\n",
              "  'company': {'name': 'Considine-Lockman',\n",
              "   'catchPhrase': 'Synchronised bottom-line interface',\n",
              "   'bs': 'e-enable innovative applications'}},\n",
              " {'id': 7,\n",
              "  'name': 'Kurtis Weissnat',\n",
              "  'username': 'Elwyn.Skiles',\n",
              "  'email': 'Telly.Hoeger@billy.biz',\n",
              "  'address': {'street': 'Rex Trail',\n",
              "   'suite': 'Suite 280',\n",
              "   'city': 'Howemouth',\n",
              "   'zipcode': '58804-1099',\n",
              "   'geo': {'lat': '24.8918', 'lng': '21.8984'}},\n",
              "  'phone': '210.067.6132',\n",
              "  'website': 'elvis.io',\n",
              "  'company': {'name': 'Johns Group',\n",
              "   'catchPhrase': 'Configurable multimedia task-force',\n",
              "   'bs': 'generate enterprise e-tailers'}},\n",
              " {'id': 8,\n",
              "  'name': 'Nicholas Runolfsdottir V',\n",
              "  'username': 'Maxime_Nienow',\n",
              "  'email': 'Sherwood@rosamond.me',\n",
              "  'address': {'street': 'Ellsworth Summit',\n",
              "   'suite': 'Suite 729',\n",
              "   'city': 'Aliyaview',\n",
              "   'zipcode': '45169',\n",
              "   'geo': {'lat': '-14.3990', 'lng': '-120.7677'}},\n",
              "  'phone': '586.493.6943 x140',\n",
              "  'website': 'jacynthe.com',\n",
              "  'company': {'name': 'Abernathy Group',\n",
              "   'catchPhrase': 'Implemented secondary concept',\n",
              "   'bs': 'e-enable extensible e-tailers'}},\n",
              " {'id': 9,\n",
              "  'name': 'Glenna Reichert',\n",
              "  'username': 'Delphine',\n",
              "  'email': 'Chaim_McDermott@dana.io',\n",
              "  'address': {'street': 'Dayna Park',\n",
              "   'suite': 'Suite 449',\n",
              "   'city': 'Bartholomebury',\n",
              "   'zipcode': '76495-3109',\n",
              "   'geo': {'lat': '24.6463', 'lng': '-168.8889'}},\n",
              "  'phone': '(775)976-6794 x41206',\n",
              "  'website': 'conrad.com',\n",
              "  'company': {'name': 'Yost and Sons',\n",
              "   'catchPhrase': 'Switchable contextually-based project',\n",
              "   'bs': 'aggregate real-time technologies'}},\n",
              " {'id': 10,\n",
              "  'name': 'Clementina DuBuque',\n",
              "  'username': 'Moriah.Stanton',\n",
              "  'email': 'Rey.Padberg@karina.biz',\n",
              "  'address': {'street': 'Kattie Turnpike',\n",
              "   'suite': 'Suite 198',\n",
              "   'city': 'Lebsackbury',\n",
              "   'zipcode': '31428-2261',\n",
              "   'geo': {'lat': '-38.2386', 'lng': '57.2232'}},\n",
              "  'phone': '024-648-3804',\n",
              "  'website': 'ambrose.net',\n",
              "  'company': {'name': 'Hoeger LLC',\n",
              "   'catchPhrase': 'Centralized empowering task-force',\n",
              "   'bs': 'target end-to-end models'}}]"
            ]
          },
          "execution_count": 45,
          "metadata": {},
          "output_type": "execute_result"
        }
      ],
      "source": [
        "# Example: Async & await\n",
        "# fetch data asynchronously from jsonplaceholder for users endpoint\n",
        "# !pip install httpx\n",
        "\n",
        "import httpx\n",
        "\n",
        "async def fetch_data():\n",
        "    async with httpx.AsyncClient() as client:\n",
        "        response = await client.get(\"https://jsonplaceholder.typicode.com/users/\")\n",
        "        print(\"Status Code:\", response.status_code)\n",
        "        print(\"Response JSON:\", response.json())\n",
        "        return response.json()\n",
        "\n",
        "await fetch_data()\n"
      ]
    }
  ],
  "metadata": {
    "colab": {
      "provenance": []
    },
    "kernelspec": {
      "display_name": "venv",
      "language": "python",
      "name": "python3"
    },
    "language_info": {
      "codemirror_mode": {
        "name": "ipython",
        "version": 3
      },
      "file_extension": ".py",
      "mimetype": "text/x-python",
      "name": "python",
      "nbconvert_exporter": "python",
      "pygments_lexer": "ipython3",
      "version": "3.12.9"
    }
  },
  "nbformat": 4,
  "nbformat_minor": 0
}
